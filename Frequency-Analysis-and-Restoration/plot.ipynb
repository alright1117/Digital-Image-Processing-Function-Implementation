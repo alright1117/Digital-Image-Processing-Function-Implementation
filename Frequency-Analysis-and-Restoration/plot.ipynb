{
 "cells": [
  {
   "cell_type": "code",
   "execution_count": 2,
   "metadata": {},
   "outputs": [],
   "source": [
    "import numpy as np\n",
    "import matplotlib.pyplot as plt"
   ]
  },
  {
   "cell_type": "code",
   "execution_count": 4,
   "metadata": {},
   "outputs": [],
   "source": [
    "baboon_spec = np.loadtxt('result/baboon.txt')\n",
    "f16_spec = np.loadtxt('result/F16.txt')\n",
    "noisy_spec = np.loadtxt('result/Noisy.txt')"
   ]
  },
  {
   "cell_type": "code",
   "execution_count": 20,
   "metadata": {},
   "outputs": [],
   "source": [
    "# Number of samplepoints\n",
    "N = baboon_spec.shape[0] // 2\n",
    "\n",
    "plt.figure(figsize=(15, 8))\n",
    "ax = plt.subplot(111)\n",
    "ax.plot(np.diagonal(baboon_spec)[:N] / np.max(np.diagonal(baboon_spec)[:N]), label='baboon')\n",
    "ax.plot(np.diagonal(f16_spec)[:N] / np.max(np.diagonal(f16_spec)[:N]), label='F16')\n",
    "ax.plot(np.diagonal(noisy_spec)[:N] / np.max(np.diagonal(noisy_spec)[:N]), label='Noisy')\n",
    "ax.set_xticks([0, 127, 255])\n",
    "ax.set_xticklabels(['low', 'middle', 'high'], fontsize=16)\n",
    "ax.legend()\n",
    "plt.rc('legend', fontsize=20)\n",
    "\n",
    "plt.show()"
   ]
  },
  {
   "cell_type": "code",
   "execution_count": null,
   "metadata": {},
   "outputs": [],
   "source": []
  }
 ],
 "metadata": {
  "interpreter": {
   "hash": "893b5a4ca3fce73a171720855a07f968005dc29858896a7764a061f4094d6ee0"
  },
  "kernelspec": {
   "display_name": "Python 3.9.5 64-bit ('base': conda)",
   "language": "python",
   "name": "python3"
  },
  "language_info": {
   "codemirror_mode": {
    "name": "ipython",
    "version": 3
   },
   "file_extension": ".py",
   "mimetype": "text/x-python",
   "name": "python",
   "nbconvert_exporter": "python",
   "pygments_lexer": "ipython3",
   "version": "3.9.5"
  },
  "orig_nbformat": 4
 },
 "nbformat": 4,
 "nbformat_minor": 2
}
