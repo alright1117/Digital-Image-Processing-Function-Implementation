{
 "cells": [
  {
   "cell_type": "code",
   "execution_count": 1,
   "id": "9f2bcc89",
   "metadata": {},
   "outputs": [],
   "source": [
    "import numpy as np\n",
    "import cv2\n",
    "import matplotlib.pyplot as plt\n",
    "import os\n",
    "\n",
    "def read_img(path):\n",
    "    if path.split('.')[-1] == 'raw':\n",
    "        with open(path, 'rb') as fd:\n",
    "            rows = 512\n",
    "            cols = 512\n",
    "            f = np.fromfile(fd, dtype=np.uint8, count=rows*cols)\n",
    "            img = f.reshape((rows, cols))\n",
    "    else:\n",
    "        img = cv2.imread(path, cv2.IMREAD_GRAYSCALE)\n",
    "    \n",
    "    return img"
   ]
  },
  {
   "cell_type": "code",
   "execution_count": 23,
   "id": "c3a80ad0",
   "metadata": {},
   "outputs": [],
   "source": [
    "def plotHistEq(name, resultPath):\n",
    "    imgPath = os.path.join('data', name + '.raw')\n",
    "    imgGammaPath = os.path.join('result', resultPath, name + 'Gamma.png')\n",
    "    imgHistEqPath = os.path.join('result', resultPath, name + '.png')\n",
    "    \n",
    "    img = read_img(imgPath)\n",
    "    imgGamma = read_img(imgGammaPath)\n",
    "    imgHistEq = read_img(imgHistEqPath)\n",
    "    \n",
    "    plt.figure(figsize=(12,8))\n",
    "    \n",
    "    if resultPath == 'historgramMatching':\n",
    "        refPath = os.path.join('data/flower.raw')\n",
    "        imgRef = read_img(refPath)\n",
    "        plt.hist(imgRef.ravel(), 256, [0, 255],label= 'reference image', alpha=0.4)\n",
    "        \n",
    "    plt.hist(img.ravel(), 256, [0, 255],label= 'original image', alpha=0.4)\n",
    "    plt.hist(imgGamma.ravel(), 256, [0, 255],label= 'gamma image', alpha=0.4)\n",
    "    plt.hist(imgHistEq.ravel(), 256, [0, 255],label= 'equalize image', alpha=0.8)\n",
    "    plt.rc('legend', fontsize=16)\n",
    "    plt.legend()\n",
    "\n",
    "    plt.show()"
   ]
  },
  {
   "cell_type": "code",
   "execution_count": 27,
   "id": "c35efde0",
   "metadata": {
    "scrolled": true
   },
   "outputs": [],
   "source": []
  },
  {
   "cell_type": "code",
   "execution_count": null,
   "id": "fa0e5ff1",
   "metadata": {},
   "outputs": [],
   "source": []
  }
 ],
 "metadata": {
  "kernelspec": {
   "display_name": "Python 3 (ipykernel)",
   "language": "python",
   "name": "python3"
  },
  "language_info": {
   "codemirror_mode": {
    "name": "ipython",
    "version": 3
   },
   "file_extension": ".py",
   "mimetype": "text/x-python",
   "name": "python",
   "nbconvert_exporter": "python",
   "pygments_lexer": "ipython3",
   "version": "3.9.5"
  }
 },
 "nbformat": 4,
 "nbformat_minor": 5
}
